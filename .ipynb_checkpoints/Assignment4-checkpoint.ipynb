{
 "cells": [
  {
   "cell_type": "markdown",
   "metadata": {},
   "source": [
    "# Assignment 4\n",
    "\n",
    "## Instructions\n",
    "<ul>\n",
    "    <li> Ensure that this assignment is your own work. PLagiarism will not be tolerated </li>\n",
    "    <li> Ensure that all cells of this notebook run without error when run in order </li>\n",
    "    <li> Follow the late day policy. Submit assignments on time </li>\n",
    "    <li> Provide clear explanation for the algorithms you implement </li>\n",
    "</ul>\n",
    "Date released: 26/10/2020 \n",
    "\n",
    "Due date: 01/11/2020 \n",
    "\n",
    "Approximate time needed: 6-7 hours\n",
    "    \n",
    "## DLT and Epipolar Lines\n",
    "\n",
    "The goal of this assignment is to aid your understanding of the Direct Linear Transform as well as Epipolar geometry.\n",
    "\n",
    "For the first part of the assignment you will find correspondences between 2D-3D points and estimate the P Matrix. You will then be required to estimate Camera Parameters from this P matrix.\n",
    "\n",
    "The second part of this assignment will require you to construct epipolar lines on two corresponding images."
   ]
  },
  {
   "cell_type": "markdown",
   "metadata": {},
   "source": [
    "---\n",
    "## 4.1\n",
    "### Generating Correspondences\n",
    "The first step to perform DLT is to generate correspondences. The cell below opens a new window. Clicking anywhere on the image should give you the pixel location of the image. Once you're done clicking, close the image window. The cell after displays the points you have clicked."
   ]
  },
  {
   "cell_type": "code",
   "execution_count": 2,
   "metadata": {},
   "outputs": [],
   "source": [
    "%matplotlib tk\n",
    "import matplotlib.pyplot as plt\n",
    "import matplotlib.image as mpimg\n",
    "import numpy as np\n",
    "\n",
    "\n",
    "image_points = []\n",
    "fig = plt.figure(figsize=(20,30))\n",
    "\n",
    "img=mpimg.imread('Images/dlt1.jpeg')\n",
    "\n",
    "def onclick(event):\n",
    "    ix, iy = event.xdata, event.ydata\n",
    "    # print(ix, iy)\n",
    "    image_points.append([ix, iy])\n",
    "\n",
    "cid = fig.canvas.mpl_connect('button_press_event', onclick)\n",
    "\n",
    "#imgplot = plt.imshow(img)\n",
    "#plt.show()"
   ]
  },
  {
   "cell_type": "code",
   "execution_count": null,
   "metadata": {},
   "outputs": [],
   "source": [
    "%matplotlib inline\n",
    "N = len(image_points)\n",
    "image_points = np.array(image_points)\n",
    "fig = plt.figure(figsize=(10,15))\n",
    "\n",
    "img=mpimg.imread('Images/dlt1.jpeg')\n",
    "imgplot = plt.imshow(img)\n",
    "\n",
    "colors = np.random.rand(N)\n",
    "area = (15 * np.ones(N))**2 \n",
    "\n",
    "#plt.scatter(image_points[:,0], image_points[:,1], c=colors, s=area)\n",
    "#plt.show()"
   ]
  },
  {
   "cell_type": "markdown",
   "metadata": {},
   "source": [
    "After generating pixel locations, you have to generate the corresponding world points. You have the freedom to chose which point you want as origin. You can consider each side as 4 units.\n",
    "\n",
    "Ensure that the ordering of your points matches the ordering of image points. Keep track of the sequence of corners clicked."
   ]
  },
  {
   "cell_type": "code",
   "execution_count": 3,
   "metadata": {},
   "outputs": [
    {
     "name": "stdout",
     "output_type": "stream",
     "text": [
      "ok\n"
     ]
    }
   ],
   "source": [
    "#We'll rename image_points to x to match textbook convention\n",
    "x = image_points\n",
    "# X represents the 3D world points\n",
    "X = []\n",
    "#Add your points here\n",
    "#Add them as 3D points only\n",
    "# X.append([1,0,0])\n",
    "\n",
    "X = np.array(X)\n",
    "print(\"ok\")"
   ]
  },
  {
   "cell_type": "markdown",
   "metadata": {},
   "source": [
    "Now that we have the correspondences, we can estimate the P matrix. Implement the DLT function that returns the P matrix\n",
    "\n",
    "Quick recap: x_i = P * X_i where (x_i, X_i) is the ith correspondence, and P is a 3x4 dimensional matrix. P is further decomposed as P = K * [ R | T].\n"
   ]
  },
  {
   "cell_type": "code",
   "execution_count": 4,
   "metadata": {},
   "outputs": [],
   "source": [
    "#Helper functions\n",
    "#appends a ones column to input\n",
    "def hom_coords(x,X):\n",
    "    n = x.shape[0]\n",
    "    size = (n,1)\n",
    "    ones = np.ones(size)\n",
    "    x = np.concatenate(\n",
    "        (x,ones),\n",
    "        axis = 1)\n",
    "    X = np.concatenate(\n",
    "        (X,ones),\n",
    "        axis = 1)\n",
    "    return x, X\n",
    "\n",
    "#x,X = hom_coords(x,X)"
   ]
  },
  {
   "cell_type": "markdown",
   "metadata": {},
   "source": [
    "#### Explanation\n",
    "\n",
    "Edit this cell and explain the DLT algorithm:"
   ]
  },
  {
   "cell_type": "code",
   "execution_count": 5,
   "metadata": {},
   "outputs": [
    {
     "name": "stdout",
     "output_type": "stream",
     "text": [
      "done\n"
     ]
    }
   ],
   "source": [
    "#DLT function takes as input \n",
    "#the image points and world points\n",
    "#return a 3x4 matrix\n",
    "def DLT(x,X):\n",
    "    \"\"\"\n",
    "    your code here\n",
    "    \"\"\"\n",
    "    P = np.random.randn(3,4)\n",
    "    return P\n",
    "\n",
    "#P = DLT(x,X)\n",
    "print(\"done\")"
   ]
  },
  {
   "cell_type": "markdown",
   "metadata": {},
   "source": [
    "## Analysing P\n",
    "\n",
    "The next part of this question is to analyse how good our estimate is. Report the reprojection error of your P matrix"
   ]
  },
  {
   "cell_type": "code",
   "execution_count": 6,
   "metadata": {},
   "outputs": [],
   "source": [
    "#Get reprojected points\n",
    "def get_points(P,X):\n",
    "    points = P@X.T\n",
    "    points = points / points[2]\n",
    "    points = points.T[:,0:2]\n",
    "    return points\n",
    "\n",
    "#Get reprojection error\n",
    "def get_err(x, X, P):\n",
    "    points = get_points(P, X)\n",
    "    \"\"\"\n",
    "    find the MSE between reprojected points\n",
    "    and x\n",
    "    \"\"\"\n",
    "    #to err is to human\n",
    "    return err"
   ]
  },
  {
   "cell_type": "markdown",
   "metadata": {},
   "source": [
    "Given the P matrix, we can estimate K, R and T. Write a function that returns K,R,T given P.\n",
    "Note: \n",
    "P = K * [R | T] where K is a 3x3 matrix and [R | T], P are 3x4 matrices"
   ]
  },
  {
   "cell_type": "code",
   "execution_count": 7,
   "metadata": {},
   "outputs": [],
   "source": [
    "def ret_RKT(P):\n",
    "    \"\"\"\n",
    "    \"\"\"\n",
    "    return R, K , T "
   ]
  },
  {
   "cell_type": "markdown",
   "metadata": {},
   "source": [
    "Reproject the world points with P matrix you have obtained via DLT:"
   ]
  },
  {
   "cell_type": "code",
   "execution_count": 8,
   "metadata": {},
   "outputs": [],
   "source": [
    "#re_proj = get_points(P, X)\n",
    "#code to plot these on the image"
   ]
  },
  {
   "cell_type": "markdown",
   "metadata": {},
   "source": [
    "### Zhangs method\n",
    "\n",
    "For this task, use the inbuilt Opencv function to estimate the K matrix of a camera. Use the checkerboard images 5456-5470 in images/zhangs folder for this task. Familiarize yourself with the different parameters for this method."
   ]
  },
  {
   "cell_type": "code",
   "execution_count": 10,
   "metadata": {},
   "outputs": [
    {
     "name": "stdout",
     "output_type": "stream",
     "text": [
      "AA\n",
      "BB\n"
     ]
    }
   ],
   "source": [
    "#Code for zhangs here\n",
    "print(\"AA\")\n",
    "print(\"BB\")"
   ]
  },
  {
   "cell_type": "markdown",
   "metadata": {},
   "source": [
    "---\n",
    "## 4.2\n",
    "### Epipolar lines\n",
    "#### Task 1\n",
    "\n",
    "For this task, you have been given two images of the same scene taken from different view-points. The fundamental matrix that encodes their relative geometry as well as a subset of corresponding points have been provided to you. The images are in q2 folder.\n",
    "\n",
    "Recall that given a point in one image, it's corresponding location in the other image can be found to along a line viz. the epipolar line. The task given to you is to draw the epipolar lines in the second image for each given point in the first image. You have to repeat this for the other image as well. Draw epipolar lines on the first image for the corresponding points in the second image.\n",
    "\n",
    "The convention used for F is $x'^{T}Fx$ where $x'$ is the location of the point in the second image."
   ]
  },
  {
   "cell_type": "code",
   "execution_count": null,
   "metadata": {},
   "outputs": [],
   "source": [
    "data_file = \"q2/data.txt\"\n",
    "\n",
    "with open(data_file, 'r') as f:\n",
    "    A = f.readlines()\n",
    "    \n",
    "print(\"AA\")\n",
    "\n",
    "img_points1 = A[2:12]\n",
    "img_points1 = [i.strip()[:-1] for i in img_points1]\n",
    "img_points1[0] = img_points1[0][1:]\n",
    "img_points2 = A[15:25]\n",
    "img_points2 = [i.strip()[:-1] for i in img_points2]\n",
    "img_points2[0] = img_points2[0][1:]\n",
    "'''\n",
    "F_mat = A[28:31]\n",
    "F_mat = [i.strip()[:-1] for i in F_mat]\n",
    "F_mat[0] = F_mat[0][1:]\n",
    "\n",
    "img_1 = []\n",
    "img_2 = []\n",
    "F_MAT = []\n",
    "\n",
    "for i in img_points1:\n",
    "    img_1.append(np.fromstring(i[1:-1], sep=' '))\n",
    "    \n",
    "for i in img_points2:\n",
    "    img_2.append(np.fromstring(i[1:-1], sep=' '))\n",
    "    \n",
    "for i in F_mat:\n",
    "    F_MAT.append(np.fromstring(i[1:-1], sep=' '))\n",
    "\n",
    "img_1 = np.array(img_1)\n",
    "img_2 = np.array(img_2)\n",
    "F_mat = np.array(F_MAT)\n",
    "print(\"done\")\n",
    "'''"
   ]
  },
  {
   "cell_type": "markdown",
   "metadata": {},
   "source": [
    "Provide a clear explanation on your approach for both this task and the next:"
   ]
  },
  {
   "cell_type": "code",
   "execution_count": null,
   "metadata": {},
   "outputs": [],
   "source": [
    "#Write code to plot epipolar lines on the images\n",
    "print(\"HI\")"
   ]
  },
  {
   "cell_type": "markdown",
   "metadata": {},
   "source": [
    "#### Task 2\n",
    "Report the location of the epipoles."
   ]
  }
 ],
 "metadata": {
  "kernelspec": {
   "display_name": "Python 3",
   "language": "python",
   "name": "python3"
  },
  "language_info": {
   "codemirror_mode": {
    "name": "ipython",
    "version": 3
   },
   "file_extension": ".py",
   "mimetype": "text/x-python",
   "name": "python",
   "nbconvert_exporter": "python",
   "pygments_lexer": "ipython3",
   "version": "3.8.3"
  }
 },
 "nbformat": 4,
 "nbformat_minor": 4
}
